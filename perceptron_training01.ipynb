{
  "nbformat": 4,
  "nbformat_minor": 0,
  "metadata": {
    "colab": {
      "name": "perceptron_training01.ipynb",
      "provenance": [],
      "mount_file_id": "1UjvSBDtoXHzp8xkOHRzNF3a60xjIBy6w",
      "authorship_tag": "ABX9TyNnQIIN6EgmPj21y9AZ4m9K",
      "include_colab_link": true
    },
    "kernelspec": {
      "name": "python3",
      "display_name": "Python 3"
    },
    "language_info": {
      "name": "python"
    }
  },
  "cells": [
    {
      "cell_type": "markdown",
      "metadata": {
        "id": "view-in-github",
        "colab_type": "text"
      },
      "source": [
        "<a href=\"https://colab.research.google.com/github/suyash2002/Learning_Python/blob/main/perceptron_training01.ipynb\" target=\"_parent\"><img src=\"https://colab.research.google.com/assets/colab-badge.svg\" alt=\"Open In Colab\"/></a>"
      ]
    },
    {
      "cell_type": "code",
      "metadata": {
        "colab": {
          "base_uri": "https://localhost:8080/"
        },
        "id": "ccXZtULyejh2",
        "outputId": "fc21e9e6-0b79-4ab5-9aae-93ff2f74b0da"
      },
      "source": [
        "print('hello world')"
      ],
      "execution_count": 1,
      "outputs": [
        {
          "output_type": "stream",
          "text": [
            "hello world\n"
          ],
          "name": "stdout"
        }
      ]
    },
    {
      "cell_type": "code",
      "metadata": {
        "id": "rwkjq37mfEa9"
      },
      "source": [
        "#this is a heading\n"
      ],
      "execution_count": 3,
      "outputs": []
    },
    {
      "cell_type": "code",
      "metadata": {
        "colab": {
          "base_uri": "https://localhost:8080/"
        },
        "id": "L1515tczh7UF",
        "outputId": "a11eadc9-d248-491c-8e51-32acf69a852a"
      },
      "source": [
        "cd '/content/drive/MyDrive/live code session/perceptron_training01.ipynb'"
      ],
      "execution_count": 4,
      "outputs": [
        {
          "output_type": "stream",
          "text": [
            "[Errno 20] Not a directory: '/content/drive/MyDrive/live code session/perceptron_training01.ipynb'\n",
            "/content\n"
          ],
          "name": "stdout"
        }
      ]
    },
    {
      "cell_type": "code",
      "metadata": {
        "colab": {
          "base_uri": "https://localhost:8080/"
        },
        "id": "YHXpeMukiu0c",
        "outputId": "847308df-52ee-4371-f090-08c18adfdd47"
      },
      "source": [
        "cd '/content/drive/MyDrive/live code session'"
      ],
      "execution_count": 5,
      "outputs": [
        {
          "output_type": "stream",
          "text": [
            "/content/drive/MyDrive/live code session\n"
          ],
          "name": "stdout"
        }
      ]
    }
  ]
}